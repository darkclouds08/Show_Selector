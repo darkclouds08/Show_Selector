{
 "cells": [
  {
   "cell_type": "code",
   "execution_count": null,
   "id": "5f64d27b-bba9-4438-88ca-d8cb86bde53d",
   "metadata": {},
   "outputs": [
    {
     "name": "stdout",
     "output_type": "stream",
     "text": [
      "Yo Sup dude, what do want?\n",
      "These are the stuffs that I've got.\n",
      "Pick: Add,Remove,Crack,View,Exit.\n"
     ]
    },
    {
     "name": "stdin",
     "output_type": "stream",
     "text": [
      " v\n"
     ]
    },
    {
     "name": "stdout",
     "output_type": "stream",
     "text": [
      "Movies = ['Whiplash' 'Hunger Games 2012' 'Forrest Gump'] \n",
      "\n",
      "Series = ['Punisher' 'The Little Things' 'Cobra Kai' 'Peacemaker'] \n",
      "\n",
      "Anime = ['Prison School' 'A Silent Voice' 'Lycoris Recoil' 'Odd Taxi'\n",
      " 'Cowboy Bepop' 'Kaguya-sama' 'Code Geass' 'Weathering with you'\n",
      " 'Your lie in april' 'Your x Name' 'Full Metal Alchemist' 'Mushoku Tensei'\n",
      " 'DBZ' 'Mob Psycho 100' 'Steins Gate'] \n",
      "\n",
      "Thamizh Padams = ['Naane Varuven' 'VTK'] \n",
      "\n",
      "Pick: Add,Remove,Crack,View,Exit.\n"
     ]
    },
    {
     "name": "stdin",
     "output_type": "stream",
     "text": [
      " c\n"
     ]
    },
    {
     "name": "stdout",
     "output_type": "stream",
     "text": [
      "Any preferences?\n",
      "Your options: Movies,Series,Anime,Thamizh padam,Whatever\n"
     ]
    },
    {
     "name": "stdin",
     "output_type": "stream",
     "text": [
      " a\n"
     ]
    },
    {
     "name": "stdout",
     "output_type": "stream",
     "text": [
      "Enjoy watching Steins Gate\n",
      "Pick: Add,Remove,Crack,View,Exit.\n"
     ]
    },
    {
     "name": "stdin",
     "output_type": "stream",
     "text": [
      " c\n"
     ]
    },
    {
     "name": "stdout",
     "output_type": "stream",
     "text": [
      "Any preferences?\n",
      "Your options: Movies,Series,Anime,Thamizh padam,Whatever\n"
     ]
    },
    {
     "name": "stdin",
     "output_type": "stream",
     "text": [
      " w\n"
     ]
    },
    {
     "name": "stdout",
     "output_type": "stream",
     "text": [
      "Enjoy watching Prison School\n",
      "Pick: Add,Remove,Crack,View,Exit.\n"
     ]
    },
    {
     "name": "stdin",
     "output_type": "stream",
     "text": [
      " r\n"
     ]
    },
    {
     "name": "stdout",
     "output_type": "stream",
     "text": [
      "Enter the type of show you want to remove,\n",
      "Options that you have: Movie,Series,Anime,Thamizh Padam\n"
     ]
    },
    {
     "name": "stdin",
     "output_type": "stream",
     "text": [
      " a\n"
     ]
    },
    {
     "name": "stdout",
     "output_type": "stream",
     "text": [
      "Animes on the watch list ['Prison School' 'A Silent Voice' 'Lycoris Recoil' 'Odd Taxi'\n",
      " 'Cowboy Bepop' 'Kaguya-sama' 'Code Geass' 'Weathering with you'\n",
      " 'Your lie in april' 'Your x Name' 'Full Metal Alchemist' 'Mushoku Tensei'\n",
      " 'DBZ' 'Mob Psycho 100' 'Steins Gate']\n",
      "Enter the anime name\n"
     ]
    }
   ],
   "source": [
    "import secrets \n",
    "import numpy as np \n",
    "\n",
    "\n",
    "def choice():\n",
    "    print(\"Pick: Add,Remove,Crack,View,Exit.\")\n",
    "    choice = input()\n",
    "    if choice == 'A' or choice == 'a':\n",
    "        add()\n",
    "    elif choice == 'R' or choice == 'r':\n",
    "        remove()\n",
    "    elif choice == 'C' or choice == 'c':\n",
    "        crack()\n",
    "    elif choice == 'V' or choice == 'v':\n",
    "        view()\n",
    "    elif choice == 'E' or choice == 'e':\n",
    "        m.close()\n",
    "        s.close()\n",
    "        a.close()\n",
    "        t.close()\n",
    "        return\n",
    "    else:\n",
    "        choice()\n",
    "\n",
    "def add():\n",
    "    global Movies,Series,Anime,Thamizh_Padam\n",
    "    print(\"Enter the type of show you want to add,\")\n",
    "    print(\"Options that you have: Movie,Series,Anime,Thamizh Padam\")\n",
    "    newType = input()\n",
    "    \n",
    "    if newType == 'M' or newType == 'm':\n",
    "        print(\"Enter the movie name\")\n",
    "        newShow = input()\n",
    "        f = open('Movies.txt','a')\n",
    "        f.write(newShow+';')\n",
    "        f.close()\n",
    "        m = open('Movies.txt')\n",
    "        Movies = np.array(list(set(m.read().split(\";\"))))\n",
    "        m.close()\n",
    "        \n",
    "    elif newType == 'S' or newType == 's':\n",
    "        print(\"Enter the series name\")\n",
    "        newShow = input()\n",
    "        f = open('Series.txt','a')\n",
    "        f.write(newShow+';')\n",
    "        f.close()\n",
    "        m = open('Series.txt')\n",
    "        Series = np.array(list(set(m.read().split(\";\"))))\n",
    "        m.close()\n",
    "        \n",
    "    elif newType == 'T' or newType == 't':\n",
    "        print(\"Enter the thamizh padam name\")\n",
    "        newShow = input()\n",
    "        f = open('Thamizh_padam.txt','a')\n",
    "        f.write(newShow+';')\n",
    "        f.close()\n",
    "        m = open('Thamizh_padam.txt')\n",
    "        Thamizh_padam = np.array(list(set(m.read().split(\";\"))))\n",
    "        m.close()\n",
    "        \n",
    "    elif newType == 'A' or newType == 'a':\n",
    "        print(\"Enter the Anime name\")\n",
    "        newShow = input()\n",
    "        f = open('Anime.txt','a')\n",
    "        f.write(newShow+';')\n",
    "        f.close()\n",
    "        m = open('Anime.txt')\n",
    "        Anime = np.array(list(set(m.read().split(\";\"))))\n",
    "        m.close()\n",
    "    else: \n",
    "        print(\"Enter right keyword\")\n",
    "        add()       \n",
    "        \n",
    "    print(newShow,\"have been successfully added\")\n",
    "    choice()\n",
    "    \n",
    "def remove():\n",
    "    global Movies,Series,Anime,Thamizh_Padam\n",
    "    print(\"Enter the type of show you want to remove,\")\n",
    "    print(\"Options that you have: Movie,Series,Anime,Thamizh Padam\")\n",
    "    newType = input()\n",
    "    \n",
    "    if newType == 'M' or newType == 'm':\n",
    "        print(\"Movies on the watch list\",Movies[1:])\n",
    "        print(\"Enter the movie name\")\n",
    "        newShow = input()\n",
    "        Movies = np.delete(Movies,np.where(Movies == newShow))\n",
    "        l = open('Movies.txt',\"w\")\n",
    "        newList = ';'.join(map(str, Movies))\n",
    "        l.write(newList)\n",
    "        l.close()\n",
    "\n",
    "        \n",
    "    elif newType == 'S' or newType == 's':\n",
    "        print(\"Series on the watch list\",Series)\n",
    "        print(\"Enter the series name\")\n",
    "        newShow = input()\n",
    "        Series = np.delete(Series,np.where(Series == newShow))\n",
    "        l = open('Series.txt',\"w\")\n",
    "        newList = ';'.join(map(str, Series))\n",
    "        l.write(newList)\n",
    "        l.close()\n",
    "        \n",
    "    elif newType == 'T' or newType == 't':\n",
    "        print(\"Thamizh padams on the watch list\",Thamizh_Padam)\n",
    "        print(\"Enter the thamizh padam name\")\n",
    "        newShow = input()\n",
    "        Thamizh_Padam = np.delete(Thamizh_Padam,np.where(Thamizh_Padam == newShow))\n",
    "        l = open('Thamizh_padam.txt',\"w\")\n",
    "        newList = ';'.join(map(str, Thamizh_Padam))\n",
    "        l.write(newList)\n",
    "        l.close()\n",
    "        \n",
    "    elif newType == 'A' or newType == 'a':\n",
    "        print(\"Animes on the watch list\",Anime)\n",
    "        print(\"Enter the anime name\")\n",
    "        newShow = input()\n",
    "        Anime = np.delete(Anime,np.where(Anime == newShow))\n",
    "        l = open('Anime.txt',\"w\")\n",
    "        newList = ';'.join(map(str, Anime))\n",
    "        l.write(newList)\n",
    "        l.close()\n",
    "    else: \n",
    "        print(\"Enter right keyword\")\n",
    "        remove() \n",
    "    print(newShow,\"have been successfully removed\")\n",
    "    choice()\n",
    "    \n",
    "def crack():\n",
    "    global Movies,Series,Anime,Thamizh_Padam\n",
    "    print(\"Any preferences?\\nYour options: Movies,Series,Anime,Thamizh padam,Whatever\")\n",
    "    pick = input()\n",
    "    if pick == 'M' or pick == 'm':\n",
    "        print(\"Enjoy watching\",secrets.choice(Movies))\n",
    "        \n",
    "    elif pick == 'S' or pick == 's':\n",
    "        print(\"Enjoy watching\",secrets.choice(Series))\n",
    "        \n",
    "    elif pick == 'T' or pick == 't':\n",
    "        print(\"Enjoy watching\",secrets.choice(Thamizh_Padam))\n",
    "        \n",
    "    elif pick == 'A' or pick == 'a':\n",
    "        print(\"Enjoy watching\",secrets.choice(Anime))\n",
    "        \n",
    "    elif pick == 'W' or pick == 'w':\n",
    "        w = []\n",
    "        w = np.append(w,np.append(Thamizh_Padam,np.append(Anime,np.append(Movies,Series))))\n",
    "        print(\"Enjoy watching\",secrets.choice(w))\n",
    "    choice()\n",
    "    \n",
    "def view():\n",
    "    global Movies,Series,Anime,Thamizh_Padam\n",
    "    print(\"Movies =\",Movies,\"\\n\")\n",
    "    print(\"Series =\",Series,\"\\n\")\n",
    "    print(\"Anime =\",Anime,\"\\n\")\n",
    "    print(\"Thamizh Padams =\",Thamizh_Padam,\"\\n\")\n",
    "    choice()\n",
    "\n",
    "\n",
    "\n",
    "m = open('Movies.txt')\n",
    "s = open('Series.txt')\n",
    "a = open('Anime.txt')\n",
    "t = open('Thamizh_padam.txt')\n",
    "\n",
    "    \n",
    "Movies = np.array(list(filter(lambda x:x != '',set(m.read().split(\";\")))))\n",
    "Series = np.array(list(filter(lambda x:x != '',set(s.read().split(\";\")))))\n",
    "Anime = np.array(list(filter(lambda x:x != '',set(a.read().split(\";\")))))\n",
    "Thamizh_Padam = np.array(list(filter(lambda x:x != '', set(t.read().split(\";\")))))\n",
    "\n",
    "print(\"Yo Sup dude, what do want?\\nThese are the stuffs that I've got.\")\n",
    "choice()\n",
    "    \n",
    "m.close()\n",
    "s.close()\n",
    "a.close()\n",
    "t.close()\n",
    "print(\"char\")"
   ]
  },
  {
   "cell_type": "code",
   "execution_count": null,
   "id": "6dcdc5eb",
   "metadata": {},
   "outputs": [],
   "source": []
  }
 ],
 "metadata": {
  "kernelspec": {
   "display_name": "Python 3 (ipykernel)",
   "language": "python",
   "name": "python3"
  },
  "language_info": {
   "codemirror_mode": {
    "name": "ipython",
    "version": 3
   },
   "file_extension": ".py",
   "mimetype": "text/x-python",
   "name": "python",
   "nbconvert_exporter": "python",
   "pygments_lexer": "ipython3",
   "version": "3.9.7"
  },
  "vscode": {
   "interpreter": {
    "hash": "2508ac86f0019c82dbd2598197a66c149d1baff79ceaed9241de690e14bd012b"
   }
  }
 },
 "nbformat": 4,
 "nbformat_minor": 5
}
